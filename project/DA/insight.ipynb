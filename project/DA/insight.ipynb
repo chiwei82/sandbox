{
 "cells": [
  {
   "cell_type": "code",
   "execution_count": 1,
   "metadata": {},
   "outputs": [],
   "source": [
    "from folium.plugins import HeatMap\n",
    "from folium.plugins import BeautifyIcon\n",
    "from branca.colormap import linear\n",
    "from branca.element import Template, MacroElement\n",
    "from selenium import webdriver\n",
    "from PIL import Image\n",
    "\n",
    "import matplotlib.pyplot as plt\n",
    "import matplotlib.colors as mcolors\n",
    "import plotly.graph_objects as go\n",
    "import pandas as pd\n",
    "import duckdb\n",
    "import folium\n",
    "import os\n",
    "import random\n",
    "import geopandas as gpd\n",
    "\n",
    "pd.set_option('display.max_columns', None)"
   ]
  },
  {
   "cell_type": "markdown",
   "metadata": {},
   "source": [
    "##### 變化率GIF圖"
   ]
  },
  {
   "cell_type": "code",
   "execution_count": 11,
   "metadata": {},
   "outputs": [
    {
     "name": "stderr",
     "output_type": "stream",
     "text": [
      "C:\\Users\\tonyf\\AppData\\Local\\Temp\\ipykernel_12596\\3990349628.py:21: DeprecationWarning: DataFrameGroupBy.apply operated on the grouping columns. This behavior is deprecated, and in a future version of pandas the grouping columns will be excluded from the operation. Either pass `include_groups=False` to exclude the groupings or explicitly select the grouping columns after groupby to silence this warning.\n",
      "  df_pct = df.groupby('sno',as_index=False).apply(calculate_change_rate)\n"
     ]
    },
    {
     "name": "stdout",
     "output_type": "stream",
     "text": [
      "exists\n",
      "exists\n",
      "exists\n",
      "exists\n",
      "exists\n",
      "exists\n",
      "exists\n",
      "exists\n",
      "exists\n",
      "exists\n",
      "exists\n",
      "exists\n",
      "exists\n",
      "exists\n",
      "exists\n",
      "exists\n",
      "exists\n",
      "exists\n",
      "exists\n",
      "exists\n",
      "exists\n",
      "exists\n",
      "exists\n",
      "exists\n",
      "exists\n",
      "exists\n",
      "exists\n",
      "exists\n",
      "exists\n",
      "exists\n",
      "exists\n",
      "exists\n",
      "exists\n",
      "exists\n",
      "exists\n",
      "exists\n",
      "exists\n",
      "exists\n",
      "exists\n",
      "exists\n",
      "exists\n",
      "exists\n",
      "exists\n",
      "exists\n",
      "exists\n",
      "exists\n",
      "exists\n",
      "exists\n",
      "exists\n",
      "exists\n",
      "exists\n",
      "exists\n",
      "exists\n",
      "exists\n",
      "exists\n",
      "exists\n",
      "exists\n",
      "exists\n",
      "exists\n",
      "exists\n",
      "exists\n",
      "exists\n",
      "exists\n",
      "exists\n",
      "exists\n",
      "exists\n",
      "exists\n",
      "exists\n",
      "exists\n",
      "exists\n",
      "exists\n",
      "exists\n",
      "exists\n",
      "exists\n",
      "exists\n",
      "exists\n",
      "exists\n",
      "exists\n",
      "exists\n",
      "exists\n",
      "exists\n",
      "exists\n",
      "exists\n",
      "exists\n",
      "exists\n",
      "exists\n",
      "exists\n",
      "exists\n",
      "exists\n",
      "exists\n",
      "exists\n",
      "exists\n",
      "exists\n",
      "exists\n",
      "exists\n",
      "exists\n",
      "exists\n",
      "exists\n",
      "exists\n",
      "exists\n",
      "exists\n",
      "exists\n",
      "exists\n",
      "exists\n",
      "exists\n",
      "exists\n",
      "exists\n",
      "exists\n",
      "exists\n",
      "exists\n",
      "exists\n",
      "exists\n",
      "exists\n",
      "exists\n",
      "exists\n",
      "exists\n",
      "exists\n",
      "2024-09-30 21:30:02\n"
     ]
    },
    {
     "name": "stderr",
     "output_type": "stream",
     "text": [
      "C:\\Users\\tonyf\\AppData\\Local\\Temp\\ipykernel_12596\\3990349628.py:35: SettingWithCopyWarning: \n",
      "A value is trying to be set on a copy of a slice from a DataFrame.\n",
      "Try using .loc[row_indexer,col_indexer] = value instead\n",
      "\n",
      "See the caveats in the documentation: https://pandas.pydata.org/pandas-docs/stable/user_guide/indexing.html#returning-a-view-versus-a-copy\n",
      "  df['norm_change_rate'] = (df['change_rate'] - min_change_rate) / (max_change_rate - min_change_rate)\n",
      "C:\\Users\\tonyf\\AppData\\Local\\Temp\\ipykernel_12596\\3990349628.py:36: SettingWithCopyWarning: \n",
      "A value is trying to be set on a copy of a slice from a DataFrame.\n",
      "Try using .loc[row_indexer,col_indexer] = value instead\n",
      "\n",
      "See the caveats in the documentation: https://pandas.pydata.org/pandas-docs/stable/user_guide/indexing.html#returning-a-view-versus-a-copy\n",
      "  df['norm_change_rate'] = df['norm_change_rate'].fillna(0)\n",
      "C:\\Users\\tonyf\\AppData\\Local\\Temp\\ipykernel_12596\\3990349628.py:35: SettingWithCopyWarning: \n",
      "A value is trying to be set on a copy of a slice from a DataFrame.\n",
      "Try using .loc[row_indexer,col_indexer] = value instead\n",
      "\n",
      "See the caveats in the documentation: https://pandas.pydata.org/pandas-docs/stable/user_guide/indexing.html#returning-a-view-versus-a-copy\n",
      "  df['norm_change_rate'] = (df['change_rate'] - min_change_rate) / (max_change_rate - min_change_rate)\n",
      "C:\\Users\\tonyf\\AppData\\Local\\Temp\\ipykernel_12596\\3990349628.py:36: SettingWithCopyWarning: \n",
      "A value is trying to be set on a copy of a slice from a DataFrame.\n",
      "Try using .loc[row_indexer,col_indexer] = value instead\n",
      "\n",
      "See the caveats in the documentation: https://pandas.pydata.org/pandas-docs/stable/user_guide/indexing.html#returning-a-view-versus-a-copy\n",
      "  df['norm_change_rate'] = df['norm_change_rate'].fillna(0)\n"
     ]
    },
    {
     "name": "stdout",
     "output_type": "stream",
     "text": [
      "2024-09-30 21:40:02\n"
     ]
    },
    {
     "name": "stderr",
     "output_type": "stream",
     "text": [
      "C:\\Users\\tonyf\\AppData\\Local\\Temp\\ipykernel_12596\\3990349628.py:35: SettingWithCopyWarning: \n",
      "A value is trying to be set on a copy of a slice from a DataFrame.\n",
      "Try using .loc[row_indexer,col_indexer] = value instead\n",
      "\n",
      "See the caveats in the documentation: https://pandas.pydata.org/pandas-docs/stable/user_guide/indexing.html#returning-a-view-versus-a-copy\n",
      "  df['norm_change_rate'] = (df['change_rate'] - min_change_rate) / (max_change_rate - min_change_rate)\n",
      "C:\\Users\\tonyf\\AppData\\Local\\Temp\\ipykernel_12596\\3990349628.py:36: SettingWithCopyWarning: \n",
      "A value is trying to be set on a copy of a slice from a DataFrame.\n",
      "Try using .loc[row_indexer,col_indexer] = value instead\n",
      "\n",
      "See the caveats in the documentation: https://pandas.pydata.org/pandas-docs/stable/user_guide/indexing.html#returning-a-view-versus-a-copy\n",
      "  df['norm_change_rate'] = df['norm_change_rate'].fillna(0)\n"
     ]
    },
    {
     "name": "stdout",
     "output_type": "stream",
     "text": [
      "2024-09-30 21:50:02\n"
     ]
    },
    {
     "name": "stderr",
     "output_type": "stream",
     "text": [
      "C:\\Users\\tonyf\\AppData\\Local\\Temp\\ipykernel_12596\\3990349628.py:35: SettingWithCopyWarning: \n",
      "A value is trying to be set on a copy of a slice from a DataFrame.\n",
      "Try using .loc[row_indexer,col_indexer] = value instead\n",
      "\n",
      "See the caveats in the documentation: https://pandas.pydata.org/pandas-docs/stable/user_guide/indexing.html#returning-a-view-versus-a-copy\n",
      "  df['norm_change_rate'] = (df['change_rate'] - min_change_rate) / (max_change_rate - min_change_rate)\n",
      "C:\\Users\\tonyf\\AppData\\Local\\Temp\\ipykernel_12596\\3990349628.py:36: SettingWithCopyWarning: \n",
      "A value is trying to be set on a copy of a slice from a DataFrame.\n",
      "Try using .loc[row_indexer,col_indexer] = value instead\n",
      "\n",
      "See the caveats in the documentation: https://pandas.pydata.org/pandas-docs/stable/user_guide/indexing.html#returning-a-view-versus-a-copy\n",
      "  df['norm_change_rate'] = df['norm_change_rate'].fillna(0)\n"
     ]
    },
    {
     "name": "stdout",
     "output_type": "stream",
     "text": [
      "2024-09-30 22:00:02\n"
     ]
    },
    {
     "name": "stderr",
     "output_type": "stream",
     "text": [
      "C:\\Users\\tonyf\\AppData\\Local\\Temp\\ipykernel_12596\\3990349628.py:35: SettingWithCopyWarning: \n",
      "A value is trying to be set on a copy of a slice from a DataFrame.\n",
      "Try using .loc[row_indexer,col_indexer] = value instead\n",
      "\n",
      "See the caveats in the documentation: https://pandas.pydata.org/pandas-docs/stable/user_guide/indexing.html#returning-a-view-versus-a-copy\n",
      "  df['norm_change_rate'] = (df['change_rate'] - min_change_rate) / (max_change_rate - min_change_rate)\n",
      "C:\\Users\\tonyf\\AppData\\Local\\Temp\\ipykernel_12596\\3990349628.py:36: SettingWithCopyWarning: \n",
      "A value is trying to be set on a copy of a slice from a DataFrame.\n",
      "Try using .loc[row_indexer,col_indexer] = value instead\n",
      "\n",
      "See the caveats in the documentation: https://pandas.pydata.org/pandas-docs/stable/user_guide/indexing.html#returning-a-view-versus-a-copy\n",
      "  df['norm_change_rate'] = df['norm_change_rate'].fillna(0)\n"
     ]
    },
    {
     "name": "stdout",
     "output_type": "stream",
     "text": [
      "2024-09-30 22:10:02\n"
     ]
    },
    {
     "name": "stderr",
     "output_type": "stream",
     "text": [
      "C:\\Users\\tonyf\\AppData\\Local\\Temp\\ipykernel_12596\\3990349628.py:35: SettingWithCopyWarning: \n",
      "A value is trying to be set on a copy of a slice from a DataFrame.\n",
      "Try using .loc[row_indexer,col_indexer] = value instead\n",
      "\n",
      "See the caveats in the documentation: https://pandas.pydata.org/pandas-docs/stable/user_guide/indexing.html#returning-a-view-versus-a-copy\n",
      "  df['norm_change_rate'] = (df['change_rate'] - min_change_rate) / (max_change_rate - min_change_rate)\n",
      "C:\\Users\\tonyf\\AppData\\Local\\Temp\\ipykernel_12596\\3990349628.py:36: SettingWithCopyWarning: \n",
      "A value is trying to be set on a copy of a slice from a DataFrame.\n",
      "Try using .loc[row_indexer,col_indexer] = value instead\n",
      "\n",
      "See the caveats in the documentation: https://pandas.pydata.org/pandas-docs/stable/user_guide/indexing.html#returning-a-view-versus-a-copy\n",
      "  df['norm_change_rate'] = df['norm_change_rate'].fillna(0)\n"
     ]
    },
    {
     "name": "stdout",
     "output_type": "stream",
     "text": [
      "2024-09-30 22:20:02\n"
     ]
    },
    {
     "name": "stderr",
     "output_type": "stream",
     "text": [
      "C:\\Users\\tonyf\\AppData\\Local\\Temp\\ipykernel_12596\\3990349628.py:35: SettingWithCopyWarning: \n",
      "A value is trying to be set on a copy of a slice from a DataFrame.\n",
      "Try using .loc[row_indexer,col_indexer] = value instead\n",
      "\n",
      "See the caveats in the documentation: https://pandas.pydata.org/pandas-docs/stable/user_guide/indexing.html#returning-a-view-versus-a-copy\n",
      "  df['norm_change_rate'] = (df['change_rate'] - min_change_rate) / (max_change_rate - min_change_rate)\n",
      "C:\\Users\\tonyf\\AppData\\Local\\Temp\\ipykernel_12596\\3990349628.py:36: SettingWithCopyWarning: \n",
      "A value is trying to be set on a copy of a slice from a DataFrame.\n",
      "Try using .loc[row_indexer,col_indexer] = value instead\n",
      "\n",
      "See the caveats in the documentation: https://pandas.pydata.org/pandas-docs/stable/user_guide/indexing.html#returning-a-view-versus-a-copy\n",
      "  df['norm_change_rate'] = df['norm_change_rate'].fillna(0)\n"
     ]
    },
    {
     "name": "stdout",
     "output_type": "stream",
     "text": [
      "2024-09-30 22:30:02\n"
     ]
    },
    {
     "name": "stderr",
     "output_type": "stream",
     "text": [
      "C:\\Users\\tonyf\\AppData\\Local\\Temp\\ipykernel_12596\\3990349628.py:35: SettingWithCopyWarning: \n",
      "A value is trying to be set on a copy of a slice from a DataFrame.\n",
      "Try using .loc[row_indexer,col_indexer] = value instead\n",
      "\n",
      "See the caveats in the documentation: https://pandas.pydata.org/pandas-docs/stable/user_guide/indexing.html#returning-a-view-versus-a-copy\n",
      "  df['norm_change_rate'] = (df['change_rate'] - min_change_rate) / (max_change_rate - min_change_rate)\n",
      "C:\\Users\\tonyf\\AppData\\Local\\Temp\\ipykernel_12596\\3990349628.py:36: SettingWithCopyWarning: \n",
      "A value is trying to be set on a copy of a slice from a DataFrame.\n",
      "Try using .loc[row_indexer,col_indexer] = value instead\n",
      "\n",
      "See the caveats in the documentation: https://pandas.pydata.org/pandas-docs/stable/user_guide/indexing.html#returning-a-view-versus-a-copy\n",
      "  df['norm_change_rate'] = df['norm_change_rate'].fillna(0)\n"
     ]
    },
    {
     "name": "stdout",
     "output_type": "stream",
     "text": [
      "2024-09-30 22:40:02\n"
     ]
    },
    {
     "name": "stderr",
     "output_type": "stream",
     "text": [
      "C:\\Users\\tonyf\\AppData\\Local\\Temp\\ipykernel_12596\\3990349628.py:35: SettingWithCopyWarning: \n",
      "A value is trying to be set on a copy of a slice from a DataFrame.\n",
      "Try using .loc[row_indexer,col_indexer] = value instead\n",
      "\n",
      "See the caveats in the documentation: https://pandas.pydata.org/pandas-docs/stable/user_guide/indexing.html#returning-a-view-versus-a-copy\n",
      "  df['norm_change_rate'] = (df['change_rate'] - min_change_rate) / (max_change_rate - min_change_rate)\n",
      "C:\\Users\\tonyf\\AppData\\Local\\Temp\\ipykernel_12596\\3990349628.py:36: SettingWithCopyWarning: \n",
      "A value is trying to be set on a copy of a slice from a DataFrame.\n",
      "Try using .loc[row_indexer,col_indexer] = value instead\n",
      "\n",
      "See the caveats in the documentation: https://pandas.pydata.org/pandas-docs/stable/user_guide/indexing.html#returning-a-view-versus-a-copy\n",
      "  df['norm_change_rate'] = df['norm_change_rate'].fillna(0)\n"
     ]
    },
    {
     "name": "stdout",
     "output_type": "stream",
     "text": [
      "2024-09-30 22:50:02\n"
     ]
    },
    {
     "name": "stderr",
     "output_type": "stream",
     "text": [
      "C:\\Users\\tonyf\\AppData\\Local\\Temp\\ipykernel_12596\\3990349628.py:35: SettingWithCopyWarning: \n",
      "A value is trying to be set on a copy of a slice from a DataFrame.\n",
      "Try using .loc[row_indexer,col_indexer] = value instead\n",
      "\n",
      "See the caveats in the documentation: https://pandas.pydata.org/pandas-docs/stable/user_guide/indexing.html#returning-a-view-versus-a-copy\n",
      "  df['norm_change_rate'] = (df['change_rate'] - min_change_rate) / (max_change_rate - min_change_rate)\n",
      "C:\\Users\\tonyf\\AppData\\Local\\Temp\\ipykernel_12596\\3990349628.py:36: SettingWithCopyWarning: \n",
      "A value is trying to be set on a copy of a slice from a DataFrame.\n",
      "Try using .loc[row_indexer,col_indexer] = value instead\n",
      "\n",
      "See the caveats in the documentation: https://pandas.pydata.org/pandas-docs/stable/user_guide/indexing.html#returning-a-view-versus-a-copy\n",
      "  df['norm_change_rate'] = df['norm_change_rate'].fillna(0)\n"
     ]
    },
    {
     "name": "stdout",
     "output_type": "stream",
     "text": [
      "2024-09-30 23:00:03\n"
     ]
    },
    {
     "name": "stderr",
     "output_type": "stream",
     "text": [
      "C:\\Users\\tonyf\\AppData\\Local\\Temp\\ipykernel_12596\\3990349628.py:35: SettingWithCopyWarning: \n",
      "A value is trying to be set on a copy of a slice from a DataFrame.\n",
      "Try using .loc[row_indexer,col_indexer] = value instead\n",
      "\n",
      "See the caveats in the documentation: https://pandas.pydata.org/pandas-docs/stable/user_guide/indexing.html#returning-a-view-versus-a-copy\n",
      "  df['norm_change_rate'] = (df['change_rate'] - min_change_rate) / (max_change_rate - min_change_rate)\n",
      "C:\\Users\\tonyf\\AppData\\Local\\Temp\\ipykernel_12596\\3990349628.py:36: SettingWithCopyWarning: \n",
      "A value is trying to be set on a copy of a slice from a DataFrame.\n",
      "Try using .loc[row_indexer,col_indexer] = value instead\n",
      "\n",
      "See the caveats in the documentation: https://pandas.pydata.org/pandas-docs/stable/user_guide/indexing.html#returning-a-view-versus-a-copy\n",
      "  df['norm_change_rate'] = df['norm_change_rate'].fillna(0)\n"
     ]
    },
    {
     "name": "stdout",
     "output_type": "stream",
     "text": [
      "2024-09-30 23:10:02\n"
     ]
    },
    {
     "name": "stderr",
     "output_type": "stream",
     "text": [
      "C:\\Users\\tonyf\\AppData\\Local\\Temp\\ipykernel_12596\\3990349628.py:35: SettingWithCopyWarning: \n",
      "A value is trying to be set on a copy of a slice from a DataFrame.\n",
      "Try using .loc[row_indexer,col_indexer] = value instead\n",
      "\n",
      "See the caveats in the documentation: https://pandas.pydata.org/pandas-docs/stable/user_guide/indexing.html#returning-a-view-versus-a-copy\n",
      "  df['norm_change_rate'] = (df['change_rate'] - min_change_rate) / (max_change_rate - min_change_rate)\n",
      "C:\\Users\\tonyf\\AppData\\Local\\Temp\\ipykernel_12596\\3990349628.py:36: SettingWithCopyWarning: \n",
      "A value is trying to be set on a copy of a slice from a DataFrame.\n",
      "Try using .loc[row_indexer,col_indexer] = value instead\n",
      "\n",
      "See the caveats in the documentation: https://pandas.pydata.org/pandas-docs/stable/user_guide/indexing.html#returning-a-view-versus-a-copy\n",
      "  df['norm_change_rate'] = df['norm_change_rate'].fillna(0)\n"
     ]
    },
    {
     "name": "stdout",
     "output_type": "stream",
     "text": [
      "2024-09-30 23:20:02\n"
     ]
    },
    {
     "name": "stderr",
     "output_type": "stream",
     "text": [
      "C:\\Users\\tonyf\\AppData\\Local\\Temp\\ipykernel_12596\\3990349628.py:35: SettingWithCopyWarning: \n",
      "A value is trying to be set on a copy of a slice from a DataFrame.\n",
      "Try using .loc[row_indexer,col_indexer] = value instead\n",
      "\n",
      "See the caveats in the documentation: https://pandas.pydata.org/pandas-docs/stable/user_guide/indexing.html#returning-a-view-versus-a-copy\n",
      "  df['norm_change_rate'] = (df['change_rate'] - min_change_rate) / (max_change_rate - min_change_rate)\n",
      "C:\\Users\\tonyf\\AppData\\Local\\Temp\\ipykernel_12596\\3990349628.py:36: SettingWithCopyWarning: \n",
      "A value is trying to be set on a copy of a slice from a DataFrame.\n",
      "Try using .loc[row_indexer,col_indexer] = value instead\n",
      "\n",
      "See the caveats in the documentation: https://pandas.pydata.org/pandas-docs/stable/user_guide/indexing.html#returning-a-view-versus-a-copy\n",
      "  df['norm_change_rate'] = df['norm_change_rate'].fillna(0)\n"
     ]
    },
    {
     "name": "stdout",
     "output_type": "stream",
     "text": [
      "2024-09-30 23:30:02\n"
     ]
    },
    {
     "name": "stderr",
     "output_type": "stream",
     "text": [
      "C:\\Users\\tonyf\\AppData\\Local\\Temp\\ipykernel_12596\\3990349628.py:35: SettingWithCopyWarning: \n",
      "A value is trying to be set on a copy of a slice from a DataFrame.\n",
      "Try using .loc[row_indexer,col_indexer] = value instead\n",
      "\n",
      "See the caveats in the documentation: https://pandas.pydata.org/pandas-docs/stable/user_guide/indexing.html#returning-a-view-versus-a-copy\n",
      "  df['norm_change_rate'] = (df['change_rate'] - min_change_rate) / (max_change_rate - min_change_rate)\n",
      "C:\\Users\\tonyf\\AppData\\Local\\Temp\\ipykernel_12596\\3990349628.py:36: SettingWithCopyWarning: \n",
      "A value is trying to be set on a copy of a slice from a DataFrame.\n",
      "Try using .loc[row_indexer,col_indexer] = value instead\n",
      "\n",
      "See the caveats in the documentation: https://pandas.pydata.org/pandas-docs/stable/user_guide/indexing.html#returning-a-view-versus-a-copy\n",
      "  df['norm_change_rate'] = df['norm_change_rate'].fillna(0)\n"
     ]
    },
    {
     "name": "stdout",
     "output_type": "stream",
     "text": [
      "2024-09-30 23:40:02\n"
     ]
    },
    {
     "name": "stderr",
     "output_type": "stream",
     "text": [
      "C:\\Users\\tonyf\\AppData\\Local\\Temp\\ipykernel_12596\\3990349628.py:35: SettingWithCopyWarning: \n",
      "A value is trying to be set on a copy of a slice from a DataFrame.\n",
      "Try using .loc[row_indexer,col_indexer] = value instead\n",
      "\n",
      "See the caveats in the documentation: https://pandas.pydata.org/pandas-docs/stable/user_guide/indexing.html#returning-a-view-versus-a-copy\n",
      "  df['norm_change_rate'] = (df['change_rate'] - min_change_rate) / (max_change_rate - min_change_rate)\n",
      "C:\\Users\\tonyf\\AppData\\Local\\Temp\\ipykernel_12596\\3990349628.py:36: SettingWithCopyWarning: \n",
      "A value is trying to be set on a copy of a slice from a DataFrame.\n",
      "Try using .loc[row_indexer,col_indexer] = value instead\n",
      "\n",
      "See the caveats in the documentation: https://pandas.pydata.org/pandas-docs/stable/user_guide/indexing.html#returning-a-view-versus-a-copy\n",
      "  df['norm_change_rate'] = df['norm_change_rate'].fillna(0)\n"
     ]
    },
    {
     "name": "stdout",
     "output_type": "stream",
     "text": [
      "2024-09-30 23:50:02\n"
     ]
    },
    {
     "name": "stderr",
     "output_type": "stream",
     "text": [
      "C:\\Users\\tonyf\\AppData\\Local\\Temp\\ipykernel_12596\\3990349628.py:35: SettingWithCopyWarning: \n",
      "A value is trying to be set on a copy of a slice from a DataFrame.\n",
      "Try using .loc[row_indexer,col_indexer] = value instead\n",
      "\n",
      "See the caveats in the documentation: https://pandas.pydata.org/pandas-docs/stable/user_guide/indexing.html#returning-a-view-versus-a-copy\n",
      "  df['norm_change_rate'] = (df['change_rate'] - min_change_rate) / (max_change_rate - min_change_rate)\n",
      "C:\\Users\\tonyf\\AppData\\Local\\Temp\\ipykernel_12596\\3990349628.py:36: SettingWithCopyWarning: \n",
      "A value is trying to be set on a copy of a slice from a DataFrame.\n",
      "Try using .loc[row_indexer,col_indexer] = value instead\n",
      "\n",
      "See the caveats in the documentation: https://pandas.pydata.org/pandas-docs/stable/user_guide/indexing.html#returning-a-view-versus-a-copy\n",
      "  df['norm_change_rate'] = df['norm_change_rate'].fillna(0)\n"
     ]
    },
    {
     "name": "stdout",
     "output_type": "stream",
     "text": [
      "2024-10-01 00:00:02\n"
     ]
    },
    {
     "name": "stderr",
     "output_type": "stream",
     "text": [
      "C:\\Users\\tonyf\\AppData\\Local\\Temp\\ipykernel_12596\\3990349628.py:35: SettingWithCopyWarning: \n",
      "A value is trying to be set on a copy of a slice from a DataFrame.\n",
      "Try using .loc[row_indexer,col_indexer] = value instead\n",
      "\n",
      "See the caveats in the documentation: https://pandas.pydata.org/pandas-docs/stable/user_guide/indexing.html#returning-a-view-versus-a-copy\n",
      "  df['norm_change_rate'] = (df['change_rate'] - min_change_rate) / (max_change_rate - min_change_rate)\n",
      "C:\\Users\\tonyf\\AppData\\Local\\Temp\\ipykernel_12596\\3990349628.py:36: SettingWithCopyWarning: \n",
      "A value is trying to be set on a copy of a slice from a DataFrame.\n",
      "Try using .loc[row_indexer,col_indexer] = value instead\n",
      "\n",
      "See the caveats in the documentation: https://pandas.pydata.org/pandas-docs/stable/user_guide/indexing.html#returning-a-view-versus-a-copy\n",
      "  df['norm_change_rate'] = df['norm_change_rate'].fillna(0)\n"
     ]
    },
    {
     "name": "stdout",
     "output_type": "stream",
     "text": [
      "2024-10-01 00:10:03\n"
     ]
    },
    {
     "name": "stderr",
     "output_type": "stream",
     "text": [
      "C:\\Users\\tonyf\\AppData\\Local\\Temp\\ipykernel_12596\\3990349628.py:35: SettingWithCopyWarning: \n",
      "A value is trying to be set on a copy of a slice from a DataFrame.\n",
      "Try using .loc[row_indexer,col_indexer] = value instead\n",
      "\n",
      "See the caveats in the documentation: https://pandas.pydata.org/pandas-docs/stable/user_guide/indexing.html#returning-a-view-versus-a-copy\n",
      "  df['norm_change_rate'] = (df['change_rate'] - min_change_rate) / (max_change_rate - min_change_rate)\n",
      "C:\\Users\\tonyf\\AppData\\Local\\Temp\\ipykernel_12596\\3990349628.py:36: SettingWithCopyWarning: \n",
      "A value is trying to be set on a copy of a slice from a DataFrame.\n",
      "Try using .loc[row_indexer,col_indexer] = value instead\n",
      "\n",
      "See the caveats in the documentation: https://pandas.pydata.org/pandas-docs/stable/user_guide/indexing.html#returning-a-view-versus-a-copy\n",
      "  df['norm_change_rate'] = df['norm_change_rate'].fillna(0)\n"
     ]
    },
    {
     "name": "stdout",
     "output_type": "stream",
     "text": [
      "2024-10-01 00:20:01\n"
     ]
    },
    {
     "name": "stderr",
     "output_type": "stream",
     "text": [
      "C:\\Users\\tonyf\\AppData\\Local\\Temp\\ipykernel_12596\\3990349628.py:35: SettingWithCopyWarning: \n",
      "A value is trying to be set on a copy of a slice from a DataFrame.\n",
      "Try using .loc[row_indexer,col_indexer] = value instead\n",
      "\n",
      "See the caveats in the documentation: https://pandas.pydata.org/pandas-docs/stable/user_guide/indexing.html#returning-a-view-versus-a-copy\n",
      "  df['norm_change_rate'] = (df['change_rate'] - min_change_rate) / (max_change_rate - min_change_rate)\n",
      "C:\\Users\\tonyf\\AppData\\Local\\Temp\\ipykernel_12596\\3990349628.py:36: SettingWithCopyWarning: \n",
      "A value is trying to be set on a copy of a slice from a DataFrame.\n",
      "Try using .loc[row_indexer,col_indexer] = value instead\n",
      "\n",
      "See the caveats in the documentation: https://pandas.pydata.org/pandas-docs/stable/user_guide/indexing.html#returning-a-view-versus-a-copy\n",
      "  df['norm_change_rate'] = df['norm_change_rate'].fillna(0)\n"
     ]
    },
    {
     "name": "stdout",
     "output_type": "stream",
     "text": [
      "2024-10-01 00:30:01\n"
     ]
    },
    {
     "name": "stderr",
     "output_type": "stream",
     "text": [
      "C:\\Users\\tonyf\\AppData\\Local\\Temp\\ipykernel_12596\\3990349628.py:35: SettingWithCopyWarning: \n",
      "A value is trying to be set on a copy of a slice from a DataFrame.\n",
      "Try using .loc[row_indexer,col_indexer] = value instead\n",
      "\n",
      "See the caveats in the documentation: https://pandas.pydata.org/pandas-docs/stable/user_guide/indexing.html#returning-a-view-versus-a-copy\n",
      "  df['norm_change_rate'] = (df['change_rate'] - min_change_rate) / (max_change_rate - min_change_rate)\n",
      "C:\\Users\\tonyf\\AppData\\Local\\Temp\\ipykernel_12596\\3990349628.py:36: SettingWithCopyWarning: \n",
      "A value is trying to be set on a copy of a slice from a DataFrame.\n",
      "Try using .loc[row_indexer,col_indexer] = value instead\n",
      "\n",
      "See the caveats in the documentation: https://pandas.pydata.org/pandas-docs/stable/user_guide/indexing.html#returning-a-view-versus-a-copy\n",
      "  df['norm_change_rate'] = df['norm_change_rate'].fillna(0)\n"
     ]
    },
    {
     "name": "stdout",
     "output_type": "stream",
     "text": [
      "2024-10-01 00:40:01\n"
     ]
    },
    {
     "name": "stderr",
     "output_type": "stream",
     "text": [
      "C:\\Users\\tonyf\\AppData\\Local\\Temp\\ipykernel_12596\\3990349628.py:35: SettingWithCopyWarning: \n",
      "A value is trying to be set on a copy of a slice from a DataFrame.\n",
      "Try using .loc[row_indexer,col_indexer] = value instead\n",
      "\n",
      "See the caveats in the documentation: https://pandas.pydata.org/pandas-docs/stable/user_guide/indexing.html#returning-a-view-versus-a-copy\n",
      "  df['norm_change_rate'] = (df['change_rate'] - min_change_rate) / (max_change_rate - min_change_rate)\n",
      "C:\\Users\\tonyf\\AppData\\Local\\Temp\\ipykernel_12596\\3990349628.py:36: SettingWithCopyWarning: \n",
      "A value is trying to be set on a copy of a slice from a DataFrame.\n",
      "Try using .loc[row_indexer,col_indexer] = value instead\n",
      "\n",
      "See the caveats in the documentation: https://pandas.pydata.org/pandas-docs/stable/user_guide/indexing.html#returning-a-view-versus-a-copy\n",
      "  df['norm_change_rate'] = df['norm_change_rate'].fillna(0)\n"
     ]
    },
    {
     "name": "stdout",
     "output_type": "stream",
     "text": [
      "2024-10-01 00:50:01\n"
     ]
    },
    {
     "name": "stderr",
     "output_type": "stream",
     "text": [
      "C:\\Users\\tonyf\\AppData\\Local\\Temp\\ipykernel_12596\\3990349628.py:35: SettingWithCopyWarning: \n",
      "A value is trying to be set on a copy of a slice from a DataFrame.\n",
      "Try using .loc[row_indexer,col_indexer] = value instead\n",
      "\n",
      "See the caveats in the documentation: https://pandas.pydata.org/pandas-docs/stable/user_guide/indexing.html#returning-a-view-versus-a-copy\n",
      "  df['norm_change_rate'] = (df['change_rate'] - min_change_rate) / (max_change_rate - min_change_rate)\n",
      "C:\\Users\\tonyf\\AppData\\Local\\Temp\\ipykernel_12596\\3990349628.py:36: SettingWithCopyWarning: \n",
      "A value is trying to be set on a copy of a slice from a DataFrame.\n",
      "Try using .loc[row_indexer,col_indexer] = value instead\n",
      "\n",
      "See the caveats in the documentation: https://pandas.pydata.org/pandas-docs/stable/user_guide/indexing.html#returning-a-view-versus-a-copy\n",
      "  df['norm_change_rate'] = df['norm_change_rate'].fillna(0)\n"
     ]
    },
    {
     "name": "stdout",
     "output_type": "stream",
     "text": [
      "2024-10-01 01:00:02\n"
     ]
    },
    {
     "name": "stderr",
     "output_type": "stream",
     "text": [
      "C:\\Users\\tonyf\\AppData\\Local\\Temp\\ipykernel_12596\\3990349628.py:35: SettingWithCopyWarning: \n",
      "A value is trying to be set on a copy of a slice from a DataFrame.\n",
      "Try using .loc[row_indexer,col_indexer] = value instead\n",
      "\n",
      "See the caveats in the documentation: https://pandas.pydata.org/pandas-docs/stable/user_guide/indexing.html#returning-a-view-versus-a-copy\n",
      "  df['norm_change_rate'] = (df['change_rate'] - min_change_rate) / (max_change_rate - min_change_rate)\n",
      "C:\\Users\\tonyf\\AppData\\Local\\Temp\\ipykernel_12596\\3990349628.py:36: SettingWithCopyWarning: \n",
      "A value is trying to be set on a copy of a slice from a DataFrame.\n",
      "Try using .loc[row_indexer,col_indexer] = value instead\n",
      "\n",
      "See the caveats in the documentation: https://pandas.pydata.org/pandas-docs/stable/user_guide/indexing.html#returning-a-view-versus-a-copy\n",
      "  df['norm_change_rate'] = df['norm_change_rate'].fillna(0)\n"
     ]
    },
    {
     "name": "stdout",
     "output_type": "stream",
     "text": [
      "2024-10-01 01:10:01\n"
     ]
    },
    {
     "name": "stderr",
     "output_type": "stream",
     "text": [
      "C:\\Users\\tonyf\\AppData\\Local\\Temp\\ipykernel_12596\\3990349628.py:35: SettingWithCopyWarning: \n",
      "A value is trying to be set on a copy of a slice from a DataFrame.\n",
      "Try using .loc[row_indexer,col_indexer] = value instead\n",
      "\n",
      "See the caveats in the documentation: https://pandas.pydata.org/pandas-docs/stable/user_guide/indexing.html#returning-a-view-versus-a-copy\n",
      "  df['norm_change_rate'] = (df['change_rate'] - min_change_rate) / (max_change_rate - min_change_rate)\n",
      "C:\\Users\\tonyf\\AppData\\Local\\Temp\\ipykernel_12596\\3990349628.py:36: SettingWithCopyWarning: \n",
      "A value is trying to be set on a copy of a slice from a DataFrame.\n",
      "Try using .loc[row_indexer,col_indexer] = value instead\n",
      "\n",
      "See the caveats in the documentation: https://pandas.pydata.org/pandas-docs/stable/user_guide/indexing.html#returning-a-view-versus-a-copy\n",
      "  df['norm_change_rate'] = df['norm_change_rate'].fillna(0)\n"
     ]
    },
    {
     "name": "stdout",
     "output_type": "stream",
     "text": [
      "2024-10-01 01:20:01\n"
     ]
    },
    {
     "name": "stderr",
     "output_type": "stream",
     "text": [
      "C:\\Users\\tonyf\\AppData\\Local\\Temp\\ipykernel_12596\\3990349628.py:35: SettingWithCopyWarning: \n",
      "A value is trying to be set on a copy of a slice from a DataFrame.\n",
      "Try using .loc[row_indexer,col_indexer] = value instead\n",
      "\n",
      "See the caveats in the documentation: https://pandas.pydata.org/pandas-docs/stable/user_guide/indexing.html#returning-a-view-versus-a-copy\n",
      "  df['norm_change_rate'] = (df['change_rate'] - min_change_rate) / (max_change_rate - min_change_rate)\n",
      "C:\\Users\\tonyf\\AppData\\Local\\Temp\\ipykernel_12596\\3990349628.py:36: SettingWithCopyWarning: \n",
      "A value is trying to be set on a copy of a slice from a DataFrame.\n",
      "Try using .loc[row_indexer,col_indexer] = value instead\n",
      "\n",
      "See the caveats in the documentation: https://pandas.pydata.org/pandas-docs/stable/user_guide/indexing.html#returning-a-view-versus-a-copy\n",
      "  df['norm_change_rate'] = df['norm_change_rate'].fillna(0)\n"
     ]
    },
    {
     "name": "stdout",
     "output_type": "stream",
     "text": [
      "2024-10-01 01:30:01\n"
     ]
    },
    {
     "name": "stderr",
     "output_type": "stream",
     "text": [
      "C:\\Users\\tonyf\\AppData\\Local\\Temp\\ipykernel_12596\\3990349628.py:35: SettingWithCopyWarning: \n",
      "A value is trying to be set on a copy of a slice from a DataFrame.\n",
      "Try using .loc[row_indexer,col_indexer] = value instead\n",
      "\n",
      "See the caveats in the documentation: https://pandas.pydata.org/pandas-docs/stable/user_guide/indexing.html#returning-a-view-versus-a-copy\n",
      "  df['norm_change_rate'] = (df['change_rate'] - min_change_rate) / (max_change_rate - min_change_rate)\n",
      "C:\\Users\\tonyf\\AppData\\Local\\Temp\\ipykernel_12596\\3990349628.py:36: SettingWithCopyWarning: \n",
      "A value is trying to be set on a copy of a slice from a DataFrame.\n",
      "Try using .loc[row_indexer,col_indexer] = value instead\n",
      "\n",
      "See the caveats in the documentation: https://pandas.pydata.org/pandas-docs/stable/user_guide/indexing.html#returning-a-view-versus-a-copy\n",
      "  df['norm_change_rate'] = df['norm_change_rate'].fillna(0)\n"
     ]
    },
    {
     "name": "stdout",
     "output_type": "stream",
     "text": [
      "2024-10-01 01:40:01\n"
     ]
    },
    {
     "name": "stderr",
     "output_type": "stream",
     "text": [
      "C:\\Users\\tonyf\\AppData\\Local\\Temp\\ipykernel_12596\\3990349628.py:35: SettingWithCopyWarning: \n",
      "A value is trying to be set on a copy of a slice from a DataFrame.\n",
      "Try using .loc[row_indexer,col_indexer] = value instead\n",
      "\n",
      "See the caveats in the documentation: https://pandas.pydata.org/pandas-docs/stable/user_guide/indexing.html#returning-a-view-versus-a-copy\n",
      "  df['norm_change_rate'] = (df['change_rate'] - min_change_rate) / (max_change_rate - min_change_rate)\n",
      "C:\\Users\\tonyf\\AppData\\Local\\Temp\\ipykernel_12596\\3990349628.py:36: SettingWithCopyWarning: \n",
      "A value is trying to be set on a copy of a slice from a DataFrame.\n",
      "Try using .loc[row_indexer,col_indexer] = value instead\n",
      "\n",
      "See the caveats in the documentation: https://pandas.pydata.org/pandas-docs/stable/user_guide/indexing.html#returning-a-view-versus-a-copy\n",
      "  df['norm_change_rate'] = df['norm_change_rate'].fillna(0)\n"
     ]
    },
    {
     "name": "stdout",
     "output_type": "stream",
     "text": [
      "2024-10-01 01:50:01\n"
     ]
    },
    {
     "name": "stderr",
     "output_type": "stream",
     "text": [
      "C:\\Users\\tonyf\\AppData\\Local\\Temp\\ipykernel_12596\\3990349628.py:35: SettingWithCopyWarning: \n",
      "A value is trying to be set on a copy of a slice from a DataFrame.\n",
      "Try using .loc[row_indexer,col_indexer] = value instead\n",
      "\n",
      "See the caveats in the documentation: https://pandas.pydata.org/pandas-docs/stable/user_guide/indexing.html#returning-a-view-versus-a-copy\n",
      "  df['norm_change_rate'] = (df['change_rate'] - min_change_rate) / (max_change_rate - min_change_rate)\n",
      "C:\\Users\\tonyf\\AppData\\Local\\Temp\\ipykernel_12596\\3990349628.py:36: SettingWithCopyWarning: \n",
      "A value is trying to be set on a copy of a slice from a DataFrame.\n",
      "Try using .loc[row_indexer,col_indexer] = value instead\n",
      "\n",
      "See the caveats in the documentation: https://pandas.pydata.org/pandas-docs/stable/user_guide/indexing.html#returning-a-view-versus-a-copy\n",
      "  df['norm_change_rate'] = df['norm_change_rate'].fillna(0)\n"
     ]
    },
    {
     "name": "stdout",
     "output_type": "stream",
     "text": [
      "2024-10-01 02:00:01\n"
     ]
    },
    {
     "name": "stderr",
     "output_type": "stream",
     "text": [
      "C:\\Users\\tonyf\\AppData\\Local\\Temp\\ipykernel_12596\\3990349628.py:35: SettingWithCopyWarning: \n",
      "A value is trying to be set on a copy of a slice from a DataFrame.\n",
      "Try using .loc[row_indexer,col_indexer] = value instead\n",
      "\n",
      "See the caveats in the documentation: https://pandas.pydata.org/pandas-docs/stable/user_guide/indexing.html#returning-a-view-versus-a-copy\n",
      "  df['norm_change_rate'] = (df['change_rate'] - min_change_rate) / (max_change_rate - min_change_rate)\n",
      "C:\\Users\\tonyf\\AppData\\Local\\Temp\\ipykernel_12596\\3990349628.py:36: SettingWithCopyWarning: \n",
      "A value is trying to be set on a copy of a slice from a DataFrame.\n",
      "Try using .loc[row_indexer,col_indexer] = value instead\n",
      "\n",
      "See the caveats in the documentation: https://pandas.pydata.org/pandas-docs/stable/user_guide/indexing.html#returning-a-view-versus-a-copy\n",
      "  df['norm_change_rate'] = df['norm_change_rate'].fillna(0)\n"
     ]
    },
    {
     "name": "stdout",
     "output_type": "stream",
     "text": [
      "2024-10-01 02:10:01\n"
     ]
    },
    {
     "name": "stderr",
     "output_type": "stream",
     "text": [
      "C:\\Users\\tonyf\\AppData\\Local\\Temp\\ipykernel_12596\\3990349628.py:35: SettingWithCopyWarning: \n",
      "A value is trying to be set on a copy of a slice from a DataFrame.\n",
      "Try using .loc[row_indexer,col_indexer] = value instead\n",
      "\n",
      "See the caveats in the documentation: https://pandas.pydata.org/pandas-docs/stable/user_guide/indexing.html#returning-a-view-versus-a-copy\n",
      "  df['norm_change_rate'] = (df['change_rate'] - min_change_rate) / (max_change_rate - min_change_rate)\n",
      "C:\\Users\\tonyf\\AppData\\Local\\Temp\\ipykernel_12596\\3990349628.py:36: SettingWithCopyWarning: \n",
      "A value is trying to be set on a copy of a slice from a DataFrame.\n",
      "Try using .loc[row_indexer,col_indexer] = value instead\n",
      "\n",
      "See the caveats in the documentation: https://pandas.pydata.org/pandas-docs/stable/user_guide/indexing.html#returning-a-view-versus-a-copy\n",
      "  df['norm_change_rate'] = df['norm_change_rate'].fillna(0)\n"
     ]
    },
    {
     "name": "stdout",
     "output_type": "stream",
     "text": [
      "2024-10-01 02:20:01\n"
     ]
    },
    {
     "name": "stderr",
     "output_type": "stream",
     "text": [
      "C:\\Users\\tonyf\\AppData\\Local\\Temp\\ipykernel_12596\\3990349628.py:35: SettingWithCopyWarning: \n",
      "A value is trying to be set on a copy of a slice from a DataFrame.\n",
      "Try using .loc[row_indexer,col_indexer] = value instead\n",
      "\n",
      "See the caveats in the documentation: https://pandas.pydata.org/pandas-docs/stable/user_guide/indexing.html#returning-a-view-versus-a-copy\n",
      "  df['norm_change_rate'] = (df['change_rate'] - min_change_rate) / (max_change_rate - min_change_rate)\n",
      "C:\\Users\\tonyf\\AppData\\Local\\Temp\\ipykernel_12596\\3990349628.py:36: SettingWithCopyWarning: \n",
      "A value is trying to be set on a copy of a slice from a DataFrame.\n",
      "Try using .loc[row_indexer,col_indexer] = value instead\n",
      "\n",
      "See the caveats in the documentation: https://pandas.pydata.org/pandas-docs/stable/user_guide/indexing.html#returning-a-view-versus-a-copy\n",
      "  df['norm_change_rate'] = df['norm_change_rate'].fillna(0)\n"
     ]
    },
    {
     "name": "stdout",
     "output_type": "stream",
     "text": [
      "2024-10-01 02:30:01\n"
     ]
    },
    {
     "name": "stderr",
     "output_type": "stream",
     "text": [
      "C:\\Users\\tonyf\\AppData\\Local\\Temp\\ipykernel_12596\\3990349628.py:35: SettingWithCopyWarning: \n",
      "A value is trying to be set on a copy of a slice from a DataFrame.\n",
      "Try using .loc[row_indexer,col_indexer] = value instead\n",
      "\n",
      "See the caveats in the documentation: https://pandas.pydata.org/pandas-docs/stable/user_guide/indexing.html#returning-a-view-versus-a-copy\n",
      "  df['norm_change_rate'] = (df['change_rate'] - min_change_rate) / (max_change_rate - min_change_rate)\n",
      "C:\\Users\\tonyf\\AppData\\Local\\Temp\\ipykernel_12596\\3990349628.py:36: SettingWithCopyWarning: \n",
      "A value is trying to be set on a copy of a slice from a DataFrame.\n",
      "Try using .loc[row_indexer,col_indexer] = value instead\n",
      "\n",
      "See the caveats in the documentation: https://pandas.pydata.org/pandas-docs/stable/user_guide/indexing.html#returning-a-view-versus-a-copy\n",
      "  df['norm_change_rate'] = df['norm_change_rate'].fillna(0)\n"
     ]
    },
    {
     "name": "stdout",
     "output_type": "stream",
     "text": [
      "2024-10-01 02:40:01\n"
     ]
    },
    {
     "name": "stderr",
     "output_type": "stream",
     "text": [
      "C:\\Users\\tonyf\\AppData\\Local\\Temp\\ipykernel_12596\\3990349628.py:35: SettingWithCopyWarning: \n",
      "A value is trying to be set on a copy of a slice from a DataFrame.\n",
      "Try using .loc[row_indexer,col_indexer] = value instead\n",
      "\n",
      "See the caveats in the documentation: https://pandas.pydata.org/pandas-docs/stable/user_guide/indexing.html#returning-a-view-versus-a-copy\n",
      "  df['norm_change_rate'] = (df['change_rate'] - min_change_rate) / (max_change_rate - min_change_rate)\n",
      "C:\\Users\\tonyf\\AppData\\Local\\Temp\\ipykernel_12596\\3990349628.py:36: SettingWithCopyWarning: \n",
      "A value is trying to be set on a copy of a slice from a DataFrame.\n",
      "Try using .loc[row_indexer,col_indexer] = value instead\n",
      "\n",
      "See the caveats in the documentation: https://pandas.pydata.org/pandas-docs/stable/user_guide/indexing.html#returning-a-view-versus-a-copy\n",
      "  df['norm_change_rate'] = df['norm_change_rate'].fillna(0)\n"
     ]
    },
    {
     "name": "stdout",
     "output_type": "stream",
     "text": [
      "2024-10-01 02:50:01\n"
     ]
    },
    {
     "name": "stderr",
     "output_type": "stream",
     "text": [
      "C:\\Users\\tonyf\\AppData\\Local\\Temp\\ipykernel_12596\\3990349628.py:35: SettingWithCopyWarning: \n",
      "A value is trying to be set on a copy of a slice from a DataFrame.\n",
      "Try using .loc[row_indexer,col_indexer] = value instead\n",
      "\n",
      "See the caveats in the documentation: https://pandas.pydata.org/pandas-docs/stable/user_guide/indexing.html#returning-a-view-versus-a-copy\n",
      "  df['norm_change_rate'] = (df['change_rate'] - min_change_rate) / (max_change_rate - min_change_rate)\n",
      "C:\\Users\\tonyf\\AppData\\Local\\Temp\\ipykernel_12596\\3990349628.py:36: SettingWithCopyWarning: \n",
      "A value is trying to be set on a copy of a slice from a DataFrame.\n",
      "Try using .loc[row_indexer,col_indexer] = value instead\n",
      "\n",
      "See the caveats in the documentation: https://pandas.pydata.org/pandas-docs/stable/user_guide/indexing.html#returning-a-view-versus-a-copy\n",
      "  df['norm_change_rate'] = df['norm_change_rate'].fillna(0)\n"
     ]
    },
    {
     "name": "stdout",
     "output_type": "stream",
     "text": [
      "2024-10-01 03:00:01\n"
     ]
    },
    {
     "name": "stderr",
     "output_type": "stream",
     "text": [
      "C:\\Users\\tonyf\\AppData\\Local\\Temp\\ipykernel_12596\\3990349628.py:35: SettingWithCopyWarning: \n",
      "A value is trying to be set on a copy of a slice from a DataFrame.\n",
      "Try using .loc[row_indexer,col_indexer] = value instead\n",
      "\n",
      "See the caveats in the documentation: https://pandas.pydata.org/pandas-docs/stable/user_guide/indexing.html#returning-a-view-versus-a-copy\n",
      "  df['norm_change_rate'] = (df['change_rate'] - min_change_rate) / (max_change_rate - min_change_rate)\n",
      "C:\\Users\\tonyf\\AppData\\Local\\Temp\\ipykernel_12596\\3990349628.py:36: SettingWithCopyWarning: \n",
      "A value is trying to be set on a copy of a slice from a DataFrame.\n",
      "Try using .loc[row_indexer,col_indexer] = value instead\n",
      "\n",
      "See the caveats in the documentation: https://pandas.pydata.org/pandas-docs/stable/user_guide/indexing.html#returning-a-view-versus-a-copy\n",
      "  df['norm_change_rate'] = df['norm_change_rate'].fillna(0)\n"
     ]
    },
    {
     "name": "stdout",
     "output_type": "stream",
     "text": [
      "2024-10-01 03:10:01\n"
     ]
    },
    {
     "name": "stderr",
     "output_type": "stream",
     "text": [
      "C:\\Users\\tonyf\\AppData\\Local\\Temp\\ipykernel_12596\\3990349628.py:35: SettingWithCopyWarning: \n",
      "A value is trying to be set on a copy of a slice from a DataFrame.\n",
      "Try using .loc[row_indexer,col_indexer] = value instead\n",
      "\n",
      "See the caveats in the documentation: https://pandas.pydata.org/pandas-docs/stable/user_guide/indexing.html#returning-a-view-versus-a-copy\n",
      "  df['norm_change_rate'] = (df['change_rate'] - min_change_rate) / (max_change_rate - min_change_rate)\n",
      "C:\\Users\\tonyf\\AppData\\Local\\Temp\\ipykernel_12596\\3990349628.py:36: SettingWithCopyWarning: \n",
      "A value is trying to be set on a copy of a slice from a DataFrame.\n",
      "Try using .loc[row_indexer,col_indexer] = value instead\n",
      "\n",
      "See the caveats in the documentation: https://pandas.pydata.org/pandas-docs/stable/user_guide/indexing.html#returning-a-view-versus-a-copy\n",
      "  df['norm_change_rate'] = df['norm_change_rate'].fillna(0)\n"
     ]
    },
    {
     "name": "stdout",
     "output_type": "stream",
     "text": [
      "2024-10-01 03:20:01\n"
     ]
    },
    {
     "name": "stderr",
     "output_type": "stream",
     "text": [
      "C:\\Users\\tonyf\\AppData\\Local\\Temp\\ipykernel_12596\\3990349628.py:35: SettingWithCopyWarning: \n",
      "A value is trying to be set on a copy of a slice from a DataFrame.\n",
      "Try using .loc[row_indexer,col_indexer] = value instead\n",
      "\n",
      "See the caveats in the documentation: https://pandas.pydata.org/pandas-docs/stable/user_guide/indexing.html#returning-a-view-versus-a-copy\n",
      "  df['norm_change_rate'] = (df['change_rate'] - min_change_rate) / (max_change_rate - min_change_rate)\n",
      "C:\\Users\\tonyf\\AppData\\Local\\Temp\\ipykernel_12596\\3990349628.py:36: SettingWithCopyWarning: \n",
      "A value is trying to be set on a copy of a slice from a DataFrame.\n",
      "Try using .loc[row_indexer,col_indexer] = value instead\n",
      "\n",
      "See the caveats in the documentation: https://pandas.pydata.org/pandas-docs/stable/user_guide/indexing.html#returning-a-view-versus-a-copy\n",
      "  df['norm_change_rate'] = df['norm_change_rate'].fillna(0)\n"
     ]
    },
    {
     "name": "stdout",
     "output_type": "stream",
     "text": [
      "2024-10-01 15:40:02\n",
      "exists\n",
      "exists\n",
      "exists\n",
      "exists\n",
      "exists\n",
      "exists\n",
      "exists\n",
      "exists\n"
     ]
    }
   ],
   "source": [
    "conn = duckdb.connect(database='warehouse\\data_sandbox.duckdb')\n",
    "df = conn.execute(\"SELECT * FROM youbike\").fetch_df()\n",
    "conn.close()\n",
    "\n",
    "df = df[['sno', 'sna', 'sarea','fetch_time','latitude', 'longitude','available_rent_bikes','total','temperature','description']].sort_values(['sno','fetch_time'], ascending=True)\n",
    "df[\"fetch_time\"] = pd.to_datetime(df[\"fetch_time\"])\n",
    "\n",
    "# 定義計算變化率的函數\n",
    "def calculate_change_rate(group):\n",
    "    # 計算 available_rent_bikes 的變化率\n",
    "    group['change_rate'] = group['available_rent_bikes'].pct_change().fillna(0)\n",
    "    \n",
    "    # 計算 fetch_time 的時間差（以分鐘計算）\n",
    "    group['time_diff'] = group['fetch_time'].diff().dt.total_seconds() / 60\n",
    "    \n",
    "    # 如果時間差超過 20 分鐘，變化率設為 0\n",
    "    group.loc[group['time_diff'] > 12, 'change_rate'] = 0\n",
    "    \n",
    "    return group\n",
    "\n",
    "df_pct = df.groupby('sno',as_index=False).apply(calculate_change_rate)\n",
    "df_available = df_pct.query(\"~time_diff.isna()\").query(\"time_diff <12\").query(\"change_rate != inf\")\n",
    "\n",
    "def generate_html(df, threshold=0.1):\n",
    "    if os.path.exists(rf\"D:\\\\sandbox_git\\\\warehouse\\\\bike_html\\\\bike_change_rate_map_{df.fetch_time.unique()[0].strftime('%Y%m%d%H%M')}.html\"):\n",
    "        print(\"exists\")\n",
    "        pass\n",
    "    else:\n",
    "        # Create a base map\n",
    "        m = folium.Map(location=[df['latitude'].mean(), df['longitude'].mean()], zoom_start=13, tiles='CartoDB positron')\n",
    "\n",
    "        # Normalize change_rate to a range between 0 and 1 for color mapping\n",
    "        min_change_rate = df['change_rate'].min()\n",
    "        max_change_rate = df['change_rate'].max()\n",
    "        df['norm_change_rate'] = (df['change_rate'] - min_change_rate) / (max_change_rate - min_change_rate)\n",
    "        df['norm_change_rate'] = df['norm_change_rate'].fillna(0)\n",
    "        \n",
    "        # Create a custom colormap\n",
    "        colormap = linear.RdYlBu_11.scale(min_change_rate, max_change_rate)  # Red for high, blue for low\n",
    "        colormap = colormap.to_step(n=10)  # Discretize the color map into 10 steps\n",
    "        \n",
    "        # Add points to the map\n",
    "        for i, row in df.iterrows():\n",
    "            # 如果 change_rate 絕對值小於 threshold，顯示為灰色\n",
    "            if abs(row['change_rate']) < threshold:\n",
    "                color = 'grey'\n",
    "                fill_opacity = 0.01\n",
    "                radius=1\n",
    "            else:\n",
    "                color = colormap(row['change_rate'])\n",
    "                fill_opacity = 0.4\n",
    "                radius=6\n",
    "            \n",
    "            folium.CircleMarker(\n",
    "                location=(row['latitude'], row['longitude']),\n",
    "                radius=radius, \n",
    "                color=color,  \n",
    "                fill=True,\n",
    "                fill_opacity=fill_opacity,\n",
    "                popup=f\"Change Rate: {row['change_rate']}\"\n",
    "            ).add_to(m)\n",
    "\n",
    "        # Add the colormap legend\n",
    "        colormap.add_to(m)\n",
    "\n",
    "        # 添加顯示 fetch_time 的文字\n",
    "        timestamp = df.fetch_time.unique()[0].strftime('%Y-%m-%d %H:%M:%S')\n",
    "        print(timestamp)\n",
    "        \n",
    "        # 自定義的 HTML 模板，將時間顯示在右下角\n",
    "        template = \"\"\"\n",
    "        {% macro html(this, kwargs) %}\n",
    "        <div style=\"position: fixed;\n",
    "                    bottom: 750px; right: 50px; z-index: 9999;\n",
    "                    background-color: black; padding: 5px;\n",
    "                    font-size: 24px; color: white\">\n",
    "        Fetched at: \"\"\" + timestamp + \"\"\"\n",
    "        </div>\n",
    "        {% endmacro %}\n",
    "        \"\"\"\n",
    "        \n",
    "        # 添加模板到地圖\n",
    "        macro = MacroElement()\n",
    "        macro._template = Template(template)\n",
    "        m.get_root().add_child(macro)\n",
    "\n",
    "        # Save the map\n",
    "        m.save(f\"D:\\\\sandbox_git\\\\warehouse\\\\bike_html\\\\bike_change_rate_map_{df.fetch_time.unique()[0].strftime('%Y%m%d%H%M')}.html\")\n",
    "\n",
    "for time in df_available.fetch_time.unique():\n",
    "    df = df_available.query(\"fetch_time == @time\")\n",
    "    generate_html(df)\n",
    "\n",
    "# Set up the Selenium driver (ensure you have the correct driver installed)\n",
    "options = webdriver.ChromeOptions()\n",
    "options.add_argument('headless')\n",
    "driver = webdriver.Chrome(options=options)\n",
    "\n",
    "# Folder paths\n",
    "html_folder = 'D:/sandbox_git/warehouse/bike_html'\n",
    "output_folder = 'D:/sandbox_git/warehouse/bike_images'\n",
    "\n",
    "if not os.path.exists(output_folder):\n",
    "    os.makedirs(output_folder)\n",
    "\n",
    "# Convert each HTML file to an image\n",
    "for file_name in os.listdir(html_folder):\n",
    "    if file_name.endswith('.html'):\n",
    "        file_path = os.path.join(html_folder, file_name)\n",
    "        output_image_path = os.path.join(output_folder, file_name.replace('.html', '.png'))\n",
    "\n",
    "        driver.get(f'file:///{file_path}')\n",
    "        driver.set_window_size(1080, 1080)  # Adjust the window size as needed\n",
    "        driver.save_screenshot(output_image_path)\n",
    "\n",
    "driver.quit()\n",
    "\n",
    "# Folder where images are saved\n",
    "image_folder = 'D:/sandbox_git/warehouse/bike_images'\n",
    "output_gif = 'D:/sandbox_git/warehouse/bike_change_rate_map.gif'\n",
    "\n",
    "# Get all the images\n",
    "image_files = [os.path.join(image_folder, f) for f in os.listdir(image_folder) if f.endswith('.png')]\n",
    "image_files.sort()  # Ensure correct order\n",
    "\n",
    "# Open images and create a GIF\n",
    "images = [Image.open(img_file) for img_file in image_files]\n",
    "images[0].save(output_gif, save_all=True, append_images=images[1:], duration=90, loop=0)"
   ]
  },
  {
   "cell_type": "markdown",
   "metadata": {},
   "source": [
    "##### 週末起訖站點"
   ]
  },
  {
   "cell_type": "code",
   "execution_count": 2,
   "metadata": {},
   "outputs": [
    {
     "data": {
      "text/html": [
       "<div>\n",
       "<style scoped>\n",
       "    .dataframe tbody tr th:only-of-type {\n",
       "        vertical-align: middle;\n",
       "    }\n",
       "\n",
       "    .dataframe tbody tr th {\n",
       "        vertical-align: top;\n",
       "    }\n",
       "\n",
       "    .dataframe thead th {\n",
       "        text-align: right;\n",
       "    }\n",
       "</style>\n",
       "<table border=\"1\" class=\"dataframe\">\n",
       "  <thead>\n",
       "    <tr style=\"text-align: right;\">\n",
       "      <th></th>\n",
       "      <th>on_stop_id</th>\n",
       "      <th>off_stop_id</th>\n",
       "      <th>on_stop</th>\n",
       "      <th>off_stop</th>\n",
       "      <th>sum_of_txn_times</th>\n",
       "      <th>district_origin</th>\n",
       "      <th>district_destination</th>\n",
       "      <th>width</th>\n",
       "      <th>geometry</th>\n",
       "    </tr>\n",
       "  </thead>\n",
       "  <tbody>\n",
       "    <tr>\n",
       "      <th>0</th>\n",
       "      <td>U101001</td>\n",
       "      <td>U101001</td>\n",
       "      <td>捷運科技大樓站</td>\n",
       "      <td>捷運科技大樓站</td>\n",
       "      <td>139</td>\n",
       "      <td>大安區</td>\n",
       "      <td>大安區</td>\n",
       "      <td>2.415385</td>\n",
       "      <td>LINESTRING (121.5436 25.02605, 121.5436 25.02605)</td>\n",
       "    </tr>\n",
       "    <tr>\n",
       "      <th>1</th>\n",
       "      <td>U101001</td>\n",
       "      <td>U101002</td>\n",
       "      <td>捷運科技大樓站</td>\n",
       "      <td>復興南路二段273號前</td>\n",
       "      <td>47</td>\n",
       "      <td>大安區</td>\n",
       "      <td>大安區</td>\n",
       "      <td>1.471795</td>\n",
       "      <td>LINESTRING (121.5436 25.02605, 121.54357 25.02...</td>\n",
       "    </tr>\n",
       "    <tr>\n",
       "      <th>2</th>\n",
       "      <td>U101001</td>\n",
       "      <td>U101003</td>\n",
       "      <td>捷運科技大樓站</td>\n",
       "      <td>國北教大實小東側門</td>\n",
       "      <td>24</td>\n",
       "      <td>大安區</td>\n",
       "      <td>大安區</td>\n",
       "      <td>1.235897</td>\n",
       "      <td>LINESTRING (121.5436 25.02605, 121.54124 25.02...</td>\n",
       "    </tr>\n",
       "    <tr>\n",
       "      <th>3</th>\n",
       "      <td>U101001</td>\n",
       "      <td>U101004</td>\n",
       "      <td>捷運科技大樓站</td>\n",
       "      <td>和平公園東側</td>\n",
       "      <td>121</td>\n",
       "      <td>大安區</td>\n",
       "      <td>大安區</td>\n",
       "      <td>2.230769</td>\n",
       "      <td>LINESTRING (121.5436 25.02605, 121.54282 25.02...</td>\n",
       "    </tr>\n",
       "    <tr>\n",
       "      <th>4</th>\n",
       "      <td>U101001</td>\n",
       "      <td>U101005</td>\n",
       "      <td>捷運科技大樓站</td>\n",
       "      <td>辛亥復興路口西北側</td>\n",
       "      <td>185</td>\n",
       "      <td>大安區</td>\n",
       "      <td>大安區</td>\n",
       "      <td>2.887179</td>\n",
       "      <td>LINESTRING (121.5436 25.02605, 121.54299 25.02...</td>\n",
       "    </tr>\n",
       "  </tbody>\n",
       "</table>\n",
       "</div>"
      ],
      "text/plain": [
       "  on_stop_id off_stop_id  on_stop     off_stop  sum_of_txn_times  \\\n",
       "0    U101001     U101001  捷運科技大樓站      捷運科技大樓站               139   \n",
       "1    U101001     U101002  捷運科技大樓站  復興南路二段273號前                47   \n",
       "2    U101001     U101003  捷運科技大樓站    國北教大實小東側門                24   \n",
       "3    U101001     U101004  捷運科技大樓站       和平公園東側               121   \n",
       "4    U101001     U101005  捷運科技大樓站    辛亥復興路口西北側               185   \n",
       "\n",
       "  district_origin district_destination     width  \\\n",
       "0             大安區                  大安區  2.415385   \n",
       "1             大安區                  大安區  1.471795   \n",
       "2             大安區                  大安區  1.235897   \n",
       "3             大安區                  大安區  2.230769   \n",
       "4             大安區                  大安區  2.887179   \n",
       "\n",
       "                                            geometry  \n",
       "0  LINESTRING (121.5436 25.02605, 121.5436 25.02605)  \n",
       "1  LINESTRING (121.5436 25.02605, 121.54357 25.02...  \n",
       "2  LINESTRING (121.5436 25.02605, 121.54124 25.02...  \n",
       "3  LINESTRING (121.5436 25.02605, 121.54282 25.02...  \n",
       "4  LINESTRING (121.5436 25.02605, 121.54299 25.02...  "
      ]
     },
     "execution_count": 2,
     "metadata": {},
     "output_type": "execute_result"
    }
   ],
   "source": [
    "# 讀取 GeoJSON 檔案\n",
    "gdf = gpd.read_file('warehouse\\週末起訖站點統計_202307.geojson')\n",
    "\n",
    "# 檢視前五列數據\n",
    "gdf.head()"
   ]
  },
  {
   "cell_type": "code",
   "execution_count": null,
   "metadata": {},
   "outputs": [],
   "source": [
    "gdf[[\"on_stop_id\",\"on_stop\"]].drop_duplicates(subset=[\"on_stop_id\"])"
   ]
  },
  {
   "cell_type": "code",
   "execution_count": null,
   "metadata": {},
   "outputs": [],
   "source": [
    "# 創建一個字典來存放每個 on_stop_id 的顏色\n",
    "on_stop_colors = {}\n",
    "unique_on_stops = gdf['on_stop_id'].unique()\n",
    "\n",
    "# 生成隨機顏色對應於每個 on_stop_id\n",
    "colors = list(mcolors.CSS4_COLORS.values())  # 使用 CSS4 定義的顏色\n",
    "random.shuffle(colors)  # 隨機打亂顏色列表\n",
    "\n",
    "for i, on_stop_id in enumerate(unique_on_stops):\n",
    "    on_stop_colors[on_stop_id] = colors[i % len(colors)]  # 確保顏色不會超出列表範圍\n",
    "\n",
    "# 設定地圖的初始中心點與縮放級別\n",
    "center_lat = gdf['geometry'].centroid.y.mean()\n",
    "center_lon = gdf['geometry'].centroid.x.mean()\n",
    "m = folium.Map(location=[center_lat, center_lon], zoom_start=12, tiles='cartodb positron')\n",
    "\n",
    "# 遍歷資料並繪製對應的 LINESTRING\n",
    "for _, row in gdf.iterrows():\n",
    "    if row['geometry'].geom_type == 'LineString':\n",
    "        coords = list(row['geometry'].coords)  # 取得 LINESTRING 的經緯度\n",
    "        locations = [(lat, lon) for lon, lat in coords]  # folium 需要 (緯度, 經度) 的順序\n",
    "        \n",
    "        # 根據 on_stop_id 選擇顏色\n",
    "        line_color = on_stop_colors[row['on_stop_id']]\n",
    "        \n",
    "        # 使用 folium 繪製線段，並根據 'width' 設置線條的寬度\n",
    "        folium.PolyLine(\n",
    "            locations=locations,\n",
    "            color=line_color,\n",
    "            weight=row['width'],  # 使用對應的線寬\n",
    "            opacity=0.8\n",
    "        ).add_to(m)\n",
    "\n",
    "# 保存或顯示地圖\n",
    "m.save(\"transit_line_map.html\")  # 保存為 HTML 文件\n",
    "m  # 若在 Jupyter Notebook 或 IPython 中執行，這樣可以直接顯示地圖"
   ]
  },
  {
   "cell_type": "markdown",
   "metadata": {},
   "source": [
    "##### 需求預測視覺化"
   ]
  },
  {
   "cell_type": "code",
   "execution_count": null,
   "metadata": {},
   "outputs": [],
   "source": [
    "# 假設你的資料存放在 df 中\n",
    "df = gpd.read_file('D:\\sandbox_git\\warehouse\\未設站區域需求預測_202303.geojson')   \n",
    "\n",
    "# 建立一個類別對應顏色的字典\n",
    "category_color_map = {\n",
    "    '低': 'blue',\n",
    "    '極低': 'purple',\n",
    "    '中低': 'green',\n",
    "    '中': 'orange',\n",
    "    '高': 'red'\n",
    "}\n",
    "\n",
    "# 初始化地圖\n",
    "fig = go.Figure()\n",
    "\n",
    "# 遍歷每個類別並繪製對應的 POLYGON\n",
    "for category, color in category_color_map.items():\n",
    "    # 過濾資料集只保留該類別的資料\n",
    "    filtered_df = df[df['category'] == category]\n",
    "    \n",
    "    # 繪製每一個 POLYGON\n",
    "    for _, row in filtered_df.iterrows():\n",
    "        # 獲取 POLYGON 的邊界座標\n",
    "        if row['geometry'].geom_type == 'Polygon':\n",
    "            x, y = row['geometry'].exterior.xy\n",
    "            # 將 array.array 轉換為 list\n",
    "            lon = list(x)\n",
    "            lat = list(y)\n",
    "            fig.add_trace(go.Scattermapbox(\n",
    "                fill=\"toself\",\n",
    "                lon=lon,\n",
    "                lat=lat,\n",
    "                mode='lines',\n",
    "                line=dict(width=2, color=color),\n",
    "                fillcolor=color,\n",
    "                name=category\n",
    "            ))\n",
    "            \n",
    "# 設定 Mapbox 底圖樣式和中心位置\n",
    "fig.update_layout(\n",
    "    mapbox_style=\"dark\",  # 使用 Mapbox 的 dark-v11 底圖\n",
    "    mapbox_accesstoken=\"pk.eyJ1Ijoic2hpYm55IiwiYSI6ImNrcWtjMDg0NjA0anQyb3RnZnl0cDJkYmYifQ.hqyJUg0ZRzAZbcJwkfs0bQ\",  # 替換成你的 Mapbox access token\n",
    "    mapbox_zoom=10,  # 設定縮放比例\n",
    "    mapbox_center={\"lat\": 25.0330, \"lon\": 121.5654},  # 根據你的資料調整中心位置\n",
    "    title=\"Polygon Map with Category Colors\"\n",
    ")\n",
    "\n",
    "# 顯示地圖\n",
    "fig.show()\n"
   ]
  },
  {
   "cell_type": "markdown",
   "metadata": {},
   "source": [
    "##### 站點分群結果"
   ]
  },
  {
   "cell_type": "code",
   "execution_count": null,
   "metadata": {},
   "outputs": [],
   "source": [
    "# 讀取 CSV 檔案\n",
    "df = pd.read_csv(\"D:\\sandbox_git\\warehouse\\互補站點1.csv\").rename(columns={'longitude1（經度）':'longitude1', 'latitude1（緯度）':'latitude1'})\\\n",
    "    .merge(gdf[[\"on_stop_id\",\"on_stop\"]].drop_duplicates(subset=[\"on_stop_id\"]), left_on=\"stop_id1\", right_on=\"on_stop_id\", how=\"left\" ).fillna(\"\")\n",
    "\n",
    "# 創建一個字典來存放每個 stop_id1 的顏色\n",
    "stop_id_colors = {}\n",
    "unique_stops = df['stop_id1'].unique()\n",
    "\n",
    "# 生成隨機顏色對應於每個 stop_id1\n",
    "colors = list(mcolors.CSS4_COLORS.values())  # 使用 CSS4 定義的顏色\n",
    "random.shuffle(colors)  # 隨機打亂顏色列表\n",
    "\n",
    "for i, stop_id in enumerate(unique_stops):\n",
    "    stop_id_colors[stop_id] = colors[i % len(colors)]  # 確保顏色不會超出列表範圍\n",
    "\n",
    "# 初始化地圖，以資料的平均經緯度作為地圖中心\n",
    "center_lat = df['latitude1'].mean()\n",
    "center_lon = df['longitude1'].mean()\n",
    "\n",
    "m = folium.Map(location=[center_lat, center_lon], zoom_start=13, tiles='cartodb dark_matter')\n",
    "\n",
    "# 繪製每個站點之間的線條\n",
    "for _, row in df.iterrows():\n",
    "    # 取得線段的經緯度\n",
    "    locations = [(row['latitude1'], row['longitude1']), (row['latitude2'], row['longitude2'])]\n",
    "    \n",
    "    # 根據 stop_id1 選擇顏色\n",
    "    line_color = stop_id_colors[row['stop_id1']]\n",
    "    \n",
    "    # 繪製兩站之間的線段，並根據 times 設置線寬\n",
    "    folium.PolyLine(\n",
    "        locations,\n",
    "        color=line_color,\n",
    "        weight=max(row['times'] / 200, 1),  # 將 times 作為線寬，縮小至 1/20，最小寬度設為 1 避免過細\n",
    "        opacity=0.5  # 增加透明度避免線條過度疊加\n",
    "    ).add_to(m)\n",
    "\n",
    "# 添加 stop_id1 標記\n",
    "for on_stop, group in df.groupby('on_stop'):\n",
    "    # 取第一個經緯度來標示 stop_id1 的位置\n",
    "    lat = group.iloc[0]['latitude1']\n",
    "    lon = group.iloc[0]['longitude1']\n",
    "    \n",
    "    # 添加帶有 stop_id1 的 marker\n",
    "    folium.Marker(\n",
    "        location=[lat, lon],\n",
    "        popup=f\"Stop Name: {on_stop}\",\n",
    "        icon=BeautifyIcon(\n",
    "            icon_shape='marker',\n",
    "            border_color='blue',\n",
    "            background_color='darkblue'\n",
    "        )\n",
    "    ).add_to(m)\n",
    "\n",
    "# 保存或顯示地圖\n",
    "m.save(\"commuting_flow_cleaned.html\")  # 保存為 HTML 文件\n",
    "m  # 若在 Jupyter Notebook 或 IPython 中執行，這樣可以直接顯示地圖"
   ]
  },
  {
   "cell_type": "markdown",
   "metadata": {},
   "source": [
    "##### 轉乘"
   ]
  },
  {
   "cell_type": "code",
   "execution_count": 36,
   "metadata": {},
   "outputs": [],
   "source": [
    "df = pd.read_csv(r\"D:\\sandbox_git\\warehouse\\202312_轉乘YouBike2.0票證刷卡資料.csv\")\n",
    "df[\"借車時間\"] = pd.to_datetime(df[\"借車時間\"])\n",
    "df[\"還車時間\"] = pd.to_datetime(df[\"還車時間\"])"
   ]
  },
  {
   "cell_type": "code",
   "execution_count": null,
   "metadata": {},
   "outputs": [],
   "source": [
    "df.sort_values(\"租借時數\",ascending=False)"
   ]
  },
  {
   "cell_type": "markdown",
   "metadata": {},
   "source": [
    "##### 見車率"
   ]
  },
  {
   "cell_type": "code",
   "execution_count": 4,
   "metadata": {},
   "outputs": [
    {
     "data": {
      "text/html": [
       "<div>\n",
       "<style scoped>\n",
       "    .dataframe tbody tr th:only-of-type {\n",
       "        vertical-align: middle;\n",
       "    }\n",
       "\n",
       "    .dataframe tbody tr th {\n",
       "        vertical-align: top;\n",
       "    }\n",
       "\n",
       "    .dataframe thead th {\n",
       "        text-align: right;\n",
       "    }\n",
       "</style>\n",
       "<table border=\"1\" class=\"dataframe\">\n",
       "  <thead>\n",
       "    <tr style=\"text-align: right;\">\n",
       "      <th></th>\n",
       "      <th>stop_id</th>\n",
       "      <th>stop_name</th>\n",
       "      <th>capacity</th>\n",
       "      <th>latitude</th>\n",
       "      <th>longitude</th>\n",
       "      <th>category</th>\n",
       "      <th>geometry</th>\n",
       "    </tr>\n",
       "  </thead>\n",
       "  <tbody>\n",
       "    <tr>\n",
       "      <th>752</th>\n",
       "      <td>U108087</td>\n",
       "      <td>東湖一號公園</td>\n",
       "      <td>10</td>\n",
       "      <td>25.07567</td>\n",
       "      <td>121.61180</td>\n",
       "      <td>低</td>\n",
       "      <td>POINT (121.6118 25.07567)</td>\n",
       "    </tr>\n",
       "    <tr>\n",
       "      <th>783</th>\n",
       "      <td>U108121</td>\n",
       "      <td>內湖路一段47巷</td>\n",
       "      <td>16</td>\n",
       "      <td>25.08781</td>\n",
       "      <td>121.55872</td>\n",
       "      <td>低</td>\n",
       "      <td>POINT (121.55872 25.08781)</td>\n",
       "    </tr>\n",
       "    <tr>\n",
       "      <th>1258</th>\n",
       "      <td>U119059</td>\n",
       "      <td>臺大共同教室北側</td>\n",
       "      <td>20</td>\n",
       "      <td>25.01595</td>\n",
       "      <td>121.53791</td>\n",
       "      <td>低</td>\n",
       "      <td>POINT (121.53791 25.01595)</td>\n",
       "    </tr>\n",
       "    <tr>\n",
       "      <th>1259</th>\n",
       "      <td>U119060</td>\n",
       "      <td>臺大共同教室東南側</td>\n",
       "      <td>12</td>\n",
       "      <td>25.01566</td>\n",
       "      <td>121.53786</td>\n",
       "      <td>低</td>\n",
       "      <td>POINT (121.53786 25.01566)</td>\n",
       "    </tr>\n",
       "    <tr>\n",
       "      <th>1264</th>\n",
       "      <td>U119065</td>\n",
       "      <td>臺大二號館</td>\n",
       "      <td>10</td>\n",
       "      <td>25.01699</td>\n",
       "      <td>121.53574</td>\n",
       "      <td>低</td>\n",
       "      <td>POINT (121.53574 25.01699)</td>\n",
       "    </tr>\n",
       "    <tr>\n",
       "      <th>1278</th>\n",
       "      <td>U119080</td>\n",
       "      <td>臺大小小福西南側</td>\n",
       "      <td>10</td>\n",
       "      <td>25.01539</td>\n",
       "      <td>121.53686</td>\n",
       "      <td>低</td>\n",
       "      <td>POINT (121.53686 25.01539)</td>\n",
       "    </tr>\n",
       "    <tr>\n",
       "      <th>1280</th>\n",
       "      <td>U119082</td>\n",
       "      <td>臺大四號館東北側</td>\n",
       "      <td>10</td>\n",
       "      <td>25.01703</td>\n",
       "      <td>121.53781</td>\n",
       "      <td>低</td>\n",
       "      <td>POINT (121.53781 25.01703)</td>\n",
       "    </tr>\n",
       "  </tbody>\n",
       "</table>\n",
       "</div>"
      ],
      "text/plain": [
       "      stop_id  stop_name  capacity  latitude  longitude category  \\\n",
       "752   U108087     東湖一號公園        10  25.07567  121.61180        低   \n",
       "783   U108121   內湖路一段47巷        16  25.08781  121.55872        低   \n",
       "1258  U119059   臺大共同教室北側        20  25.01595  121.53791        低   \n",
       "1259  U119060  臺大共同教室東南側        12  25.01566  121.53786        低   \n",
       "1264  U119065      臺大二號館        10  25.01699  121.53574        低   \n",
       "1278  U119080   臺大小小福西南側        10  25.01539  121.53686        低   \n",
       "1280  U119082   臺大四號館東北側        10  25.01703  121.53781        低   \n",
       "\n",
       "                        geometry  \n",
       "752    POINT (121.6118 25.07567)  \n",
       "783   POINT (121.55872 25.08781)  \n",
       "1258  POINT (121.53791 25.01595)  \n",
       "1259  POINT (121.53786 25.01566)  \n",
       "1264  POINT (121.53574 25.01699)  \n",
       "1278  POINT (121.53686 25.01539)  \n",
       "1280  POINT (121.53781 25.01703)  "
      ]
     },
     "execution_count": 4,
     "metadata": {},
     "output_type": "execute_result"
    }
   ],
   "source": [
    "gpd.read_file(\"D:\\sandbox_git\\warehouse\\見車率_202307.geojson\").query(\"category == '低'\")"
   ]
  },
  {
   "cell_type": "code",
   "execution_count": null,
   "metadata": {},
   "outputs": [],
   "source": []
  }
 ],
 "metadata": {
  "kernelspec": {
   "display_name": "venv",
   "language": "python",
   "name": "python3"
  },
  "language_info": {
   "codemirror_mode": {
    "name": "ipython",
    "version": 3
   },
   "file_extension": ".py",
   "mimetype": "text/x-python",
   "name": "python",
   "nbconvert_exporter": "python",
   "pygments_lexer": "ipython3",
   "version": "3.11.1"
  }
 },
 "nbformat": 4,
 "nbformat_minor": 2
}
